{
 "cells": [
  {
   "cell_type": "markdown",
   "id": "238a72ad",
   "metadata": {},
   "source": [
    "\n",
    "# Rocket League Match Predictor \n",
    "\n",
    "This notebook trains a **no‑leak match‑winner predictor** using your two CSVs:\n",
    "\n",
    "- `matches_by_teams.csv` — per-team stats per match (includes `winner`)\n",
    "- `main.csv` — match/game metadata with a date column\n",
    "\n",
    "**Design choices:**\n",
    "- Uses **only past data** via `shift(1)` + rolling means\n",
    "- Builds **match‑level features** by subtracting Team B from Team A\n",
    "- **Time‑ordered** 80/20 split for evaluation\n",
    "- Trains **Logistic Regression** (with scaling) and **Random Forest**\n",
    "- Saves artifacts for reuse (`rl_match_predictor.pkl`, `test_set_predictions.csv`)\n",
    "- Includes an **inference helper** (predict probability for two teams as of a date)\n"
   ]
  },
  {
   "cell_type": "code",
   "execution_count": 3,
   "id": "f7df87b2",
   "metadata": {},
   "outputs": [],
   "source": [
    "\n",
    "# 1) Imports & Setup\n",
    "import pandas as pd\n",
    "import numpy as np\n",
    "import matplotlib.pyplot as plt\n",
    "from datetime import datetime\n",
    "\n",
    "from sklearn.preprocessing import StandardScaler\n",
    "from sklearn.pipeline import Pipeline\n",
    "from sklearn.linear_model import LogisticRegression\n",
    "from sklearn.ensemble import RandomForestClassifier\n",
    "from sklearn.metrics import accuracy_score, roc_auc_score, log_loss, ConfusionMatrixDisplay, RocCurveDisplay\n",
    "\n",
    "import pickle\n",
    "import warnings\n",
    "warnings.filterwarnings(\"ignore\")\n"
   ]
  },
  {
   "cell_type": "markdown",
   "id": "3d1038bb",
   "metadata": {},
   "source": [
    "## Load Data"
   ]
  },
  {
   "cell_type": "code",
   "execution_count": 4,
   "id": "bcdbbb69",
   "metadata": {},
   "outputs": [
    {
     "name": "stdout",
     "output_type": "stream",
     "text": [
      "matches shape: (10594, 54)\n",
      "main shape: (18740, 36)\n"
     ]
    }
   ],
   "source": [
    "\n",
    "# 2) Load Data (adjust paths if needed)\n",
    "matches_path = 'matches_by_teams.csv'\n",
    "main_path    = 'main.csv'\n",
    "\n",
    "matches = pd.read_csv(matches_path)\n",
    "main    = pd.read_csv(main_path)\n",
    "\n",
    "print(\"matches shape:\", matches.shape)\n",
    "print(\"main shape:\", main.shape)\n"
   ]
  },
  {
   "cell_type": "markdown",
   "id": "5d14861c",
   "metadata": {},
   "source": [
    "## Dates & Per-Match Metadata"
   ]
  },
  {
   "cell_type": "code",
   "execution_count": 5,
   "id": "02b243fd",
   "metadata": {},
   "outputs": [
    {
     "data": {
      "application/vnd.microsoft.datawrangler.viewer.v0+json": {
       "columns": [
        {
         "name": "index",
         "rawType": "int64",
         "type": "integer"
        },
        {
         "name": "match_id",
         "rawType": "object",
         "type": "string"
        },
        {
         "name": "game_date",
         "rawType": "datetime64[ns, UTC]",
         "type": "unknown"
        },
        {
         "name": "event",
         "rawType": "object",
         "type": "string"
        },
        {
         "name": "event_region",
         "rawType": "object",
         "type": "string"
        },
        {
         "name": "event_tier",
         "rawType": "object",
         "type": "string"
        },
        {
         "name": "match_format",
         "rawType": "object",
         "type": "string"
        },
        {
         "name": "stage",
         "rawType": "object",
         "type": "string"
        },
        {
         "name": "stage_is_lan",
         "rawType": "bool",
         "type": "boolean"
        },
        {
         "name": "stage_is_qualifier",
         "rawType": "bool",
         "type": "boolean"
        }
       ],
       "ref": "71464ccc-2deb-4a20-bfa7-eedad07080f2",
       "rows": [
        [
         "6",
         "6159ad3d143c37878b2384ab",
         "2021-10-08 06:06:28+00:00",
         "Regional 1",
         "Oceania",
         "Qualifier",
         "best-of-5",
         "Swiss Stage",
         "False",
         "True"
        ],
        [
         "0",
         "6159ad3d143c37878b2384a9",
         "2021-10-08 06:08:23+00:00",
         "Regional 1",
         "Oceania",
         "Qualifier",
         "best-of-5",
         "Swiss Stage",
         "False",
         "True"
        ],
        [
         "14",
         "6159ad3d143c37878b2384ae",
         "2021-10-08 06:08:41+00:00",
         "Regional 1",
         "Oceania",
         "Qualifier",
         "best-of-5",
         "Swiss Stage",
         "False",
         "True"
        ]
       ],
       "shape": {
        "columns": 9,
        "rows": 3
       }
      },
      "text/html": [
       "<div>\n",
       "<style scoped>\n",
       "    .dataframe tbody tr th:only-of-type {\n",
       "        vertical-align: middle;\n",
       "    }\n",
       "\n",
       "    .dataframe tbody tr th {\n",
       "        vertical-align: top;\n",
       "    }\n",
       "\n",
       "    .dataframe thead th {\n",
       "        text-align: right;\n",
       "    }\n",
       "</style>\n",
       "<table border=\"1\" class=\"dataframe\">\n",
       "  <thead>\n",
       "    <tr style=\"text-align: right;\">\n",
       "      <th></th>\n",
       "      <th>match_id</th>\n",
       "      <th>game_date</th>\n",
       "      <th>event</th>\n",
       "      <th>event_region</th>\n",
       "      <th>event_tier</th>\n",
       "      <th>match_format</th>\n",
       "      <th>stage</th>\n",
       "      <th>stage_is_lan</th>\n",
       "      <th>stage_is_qualifier</th>\n",
       "    </tr>\n",
       "  </thead>\n",
       "  <tbody>\n",
       "    <tr>\n",
       "      <th>6</th>\n",
       "      <td>6159ad3d143c37878b2384ab</td>\n",
       "      <td>2021-10-08 06:06:28+00:00</td>\n",
       "      <td>Regional 1</td>\n",
       "      <td>Oceania</td>\n",
       "      <td>Qualifier</td>\n",
       "      <td>best-of-5</td>\n",
       "      <td>Swiss Stage</td>\n",
       "      <td>False</td>\n",
       "      <td>True</td>\n",
       "    </tr>\n",
       "    <tr>\n",
       "      <th>0</th>\n",
       "      <td>6159ad3d143c37878b2384a9</td>\n",
       "      <td>2021-10-08 06:08:23+00:00</td>\n",
       "      <td>Regional 1</td>\n",
       "      <td>Oceania</td>\n",
       "      <td>Qualifier</td>\n",
       "      <td>best-of-5</td>\n",
       "      <td>Swiss Stage</td>\n",
       "      <td>False</td>\n",
       "      <td>True</td>\n",
       "    </tr>\n",
       "    <tr>\n",
       "      <th>14</th>\n",
       "      <td>6159ad3d143c37878b2384ae</td>\n",
       "      <td>2021-10-08 06:08:41+00:00</td>\n",
       "      <td>Regional 1</td>\n",
       "      <td>Oceania</td>\n",
       "      <td>Qualifier</td>\n",
       "      <td>best-of-5</td>\n",
       "      <td>Swiss Stage</td>\n",
       "      <td>False</td>\n",
       "      <td>True</td>\n",
       "    </tr>\n",
       "  </tbody>\n",
       "</table>\n",
       "</div>"
      ],
      "text/plain": [
       "                    match_id                 game_date       event  \\\n",
       "6   6159ad3d143c37878b2384ab 2021-10-08 06:06:28+00:00  Regional 1   \n",
       "0   6159ad3d143c37878b2384a9 2021-10-08 06:08:23+00:00  Regional 1   \n",
       "14  6159ad3d143c37878b2384ae 2021-10-08 06:08:41+00:00  Regional 1   \n",
       "\n",
       "   event_region event_tier match_format        stage  stage_is_lan  \\\n",
       "6       Oceania  Qualifier    best-of-5  Swiss Stage         False   \n",
       "0       Oceania  Qualifier    best-of-5  Swiss Stage         False   \n",
       "14      Oceania  Qualifier    best-of-5  Swiss Stage         False   \n",
       "\n",
       "    stage_is_qualifier  \n",
       "6                 True  \n",
       "0                 True  \n",
       "14                True  "
      ]
     },
     "execution_count": 5,
     "metadata": {},
     "output_type": "execute_result"
    }
   ],
   "source": [
    "\n",
    "# 3) Dates & Per-Match Metadata\n",
    "date_col = 'game_date' if 'game_date' in main.columns else ('match_date' if 'match_date' in main.columns else None)\n",
    "if date_col is None:\n",
    "    raise ValueError(\"No date column found in main.csv. Expected 'game_date' or 'match_date'.\")\n",
    "\n",
    "main[date_col] = pd.to_datetime(main[date_col], errors='coerce', utc=True)\n",
    "\n",
    "meta_candidates = ['match_id', date_col, 'event', 'event_region', 'event_tier',\n",
    "                   'match_format', 'stage', 'stage_is_lan', 'stage_is_qualifier']\n",
    "meta_cols = [c for c in meta_candidates if c in main.columns]\n",
    "\n",
    "main_match = (main.sort_values([date_col, 'match_id'])\n",
    "                  .drop_duplicates(subset=['match_id'], keep='first')[meta_cols])\n",
    "\n",
    "main_match.head(3)\n"
   ]
  },
  {
   "cell_type": "markdown",
   "id": "8efa40da",
   "metadata": {},
   "source": [
    "## Per-Team Rows & Feature Selection"
   ]
  },
  {
   "cell_type": "code",
   "execution_count": 6,
   "id": "9cdf2be3",
   "metadata": {},
   "outputs": [
    {
     "name": "stdout",
     "output_type": "stream",
     "text": [
      "Using 46 numeric features (first 12): ['boost_amount_collected', 'boost_amount_collected_big', 'boost_amount_collected_small', 'boost_amount_overfill', 'boost_amount_overfill_stolen', 'boost_amount_stolen', 'boost_amount_stolen_big', 'boost_amount_stolen_small', 'boost_amount_used_while_supersonic', 'boost_avg_amount', 'boost_bcpm', 'boost_bpm']\n"
     ]
    },
    {
     "data": {
      "application/vnd.microsoft.datawrangler.viewer.v0+json": {
       "columns": [
        {
         "name": "index",
         "rawType": "int64",
         "type": "integer"
        },
        {
         "name": "match_id",
         "rawType": "object",
         "type": "string"
        },
        {
         "name": "team_id",
         "rawType": "object",
         "type": "string"
        },
        {
         "name": "team_slug",
         "rawType": "object",
         "type": "string"
        },
        {
         "name": "team_name",
         "rawType": "object",
         "type": "string"
        },
        {
         "name": "team_region",
         "rawType": "object",
         "type": "string"
        },
        {
         "name": "color",
         "rawType": "object",
         "type": "string"
        },
        {
         "name": "winner",
         "rawType": "int64",
         "type": "integer"
        },
        {
         "name": "core_shots",
         "rawType": "float64",
         "type": "float"
        },
        {
         "name": "core_goals",
         "rawType": "float64",
         "type": "float"
        },
        {
         "name": "core_saves",
         "rawType": "float64",
         "type": "float"
        },
        {
         "name": "core_assists",
         "rawType": "float64",
         "type": "float"
        },
        {
         "name": "core_score",
         "rawType": "float64",
         "type": "float"
        },
        {
         "name": "core_shooting_percentage",
         "rawType": "float64",
         "type": "float"
        },
        {
         "name": "boost_bpm",
         "rawType": "float64",
         "type": "float"
        },
        {
         "name": "boost_bcpm",
         "rawType": "float64",
         "type": "float"
        },
        {
         "name": "boost_avg_amount",
         "rawType": "float64",
         "type": "float"
        },
        {
         "name": "boost_amount_collected",
         "rawType": "float64",
         "type": "float"
        },
        {
         "name": "boost_amount_stolen",
         "rawType": "float64",
         "type": "float"
        },
        {
         "name": "boost_amount_collected_big",
         "rawType": "float64",
         "type": "float"
        },
        {
         "name": "boost_amount_stolen_big",
         "rawType": "float64",
         "type": "float"
        },
        {
         "name": "boost_amount_collected_small",
         "rawType": "float64",
         "type": "float"
        },
        {
         "name": "boost_amount_stolen_small",
         "rawType": "float64",
         "type": "float"
        },
        {
         "name": "boost_count_collected_big",
         "rawType": "float64",
         "type": "float"
        },
        {
         "name": "boost_count_stolen_big",
         "rawType": "float64",
         "type": "float"
        },
        {
         "name": "boost_count_collected_small",
         "rawType": "float64",
         "type": "float"
        },
        {
         "name": "boost_count_stolen_small",
         "rawType": "float64",
         "type": "float"
        },
        {
         "name": "boost_amount_overfill",
         "rawType": "float64",
         "type": "float"
        },
        {
         "name": "boost_amount_overfill_stolen",
         "rawType": "float64",
         "type": "float"
        },
        {
         "name": "boost_amount_used_while_supersonic",
         "rawType": "float64",
         "type": "float"
        },
        {
         "name": "boost_time_zero_boost",
         "rawType": "float64",
         "type": "float"
        },
        {
         "name": "boost_time_full_boost",
         "rawType": "float64",
         "type": "float"
        },
        {
         "name": "boost_time_boost_0_25",
         "rawType": "float64",
         "type": "float"
        },
        {
         "name": "boost_time_boost_25_50",
         "rawType": "float64",
         "type": "float"
        },
        {
         "name": "boost_time_boost_50_75",
         "rawType": "float64",
         "type": "float"
        },
        {
         "name": "boost_time_boost_75_100",
         "rawType": "float64",
         "type": "float"
        },
        {
         "name": "movement_total_distance",
         "rawType": "float64",
         "type": "float"
        },
        {
         "name": "movement_time_supersonic_speed",
         "rawType": "float64",
         "type": "float"
        },
        {
         "name": "movement_time_boost_speed",
         "rawType": "float64",
         "type": "float"
        },
        {
         "name": "movement_time_slow_speed",
         "rawType": "float64",
         "type": "float"
        },
        {
         "name": "movement_time_ground",
         "rawType": "float64",
         "type": "float"
        },
        {
         "name": "movement_time_low_air",
         "rawType": "float64",
         "type": "float"
        },
        {
         "name": "movement_time_high_air",
         "rawType": "float64",
         "type": "float"
        },
        {
         "name": "movement_time_powerslide",
         "rawType": "float64",
         "type": "float"
        },
        {
         "name": "movement_count_powerslide",
         "rawType": "float64",
         "type": "float"
        },
        {
         "name": "positioning_time_defensive_third",
         "rawType": "float64",
         "type": "float"
        },
        {
         "name": "positioning_time_neutral_third",
         "rawType": "float64",
         "type": "float"
        },
        {
         "name": "positioning_time_offensive_third",
         "rawType": "float64",
         "type": "float"
        },
        {
         "name": "positioning_time_defensive_half",
         "rawType": "float64",
         "type": "float"
        },
        {
         "name": "positioning_time_offensive_half",
         "rawType": "float64",
         "type": "float"
        },
        {
         "name": "positioning_time_behind_ball",
         "rawType": "float64",
         "type": "float"
        },
        {
         "name": "positioning_time_in_front_ball",
         "rawType": "float64",
         "type": "float"
        },
        {
         "name": "demo_inflicted",
         "rawType": "float64",
         "type": "float"
        },
        {
         "name": "demo_taken",
         "rawType": "float64",
         "type": "float"
        },
        {
         "name": "game_date",
         "rawType": "datetime64[ns, UTC]",
         "type": "unknown"
        },
        {
         "name": "event",
         "rawType": "object",
         "type": "string"
        },
        {
         "name": "event_region",
         "rawType": "object",
         "type": "string"
        },
        {
         "name": "event_tier",
         "rawType": "object",
         "type": "string"
        },
        {
         "name": "match_format",
         "rawType": "object",
         "type": "string"
        },
        {
         "name": "stage",
         "rawType": "object",
         "type": "string"
        },
        {
         "name": "stage_is_lan",
         "rawType": "bool",
         "type": "boolean"
        },
        {
         "name": "stage_is_qualifier",
         "rawType": "bool",
         "type": "boolean"
        }
       ],
       "ref": "8a5c3cad-478e-46a2-9457-2d9b2b44f928",
       "rows": [
        [
         "0",
         "6159acd3143c37878b23848f",
         "6020bc70f1e4807cc7002386",
         "https://octane.gg/teams/2386-rogue",
         "ROGUE",
         "North America",
         "blue",
         "0",
         "32.0",
         "8.0",
         "20.0",
         "8.0",
         "4533.0",
         "25.0",
         "5148.0",
         "5292.557870000001",
         "555.92",
         "29872.0",
         "5818.0",
         "20153.0",
         "2945.0",
         "9719.0",
         "2873.0",
         "236.0",
         "34.0",
         "824.0",
         "233.0",
         "3555.0",
         "466.0",
         "4105.0",
         "545.37",
         "370.9500000000001",
         "1612.1699999999998",
         "977.51",
         "677.72",
         "864.0699999999999",
         "6100777.0",
         "627.01",
         "1671.82",
         "1933.33",
         "2389.04",
         "1567.77",
         "275.34000000000003",
         "68.82",
         "690.0",
         "2073.9",
         "1347.47",
         "810.8199999999999",
         "2797.27",
         "1434.86",
         "3068.99",
         "1163.19",
         "17.0",
         "9.0",
         "2021-10-10 23:15:58+00:00",
         "Regional 1",
         "North America",
         "Qualifier",
         "best-of-5",
         "Swiss Stage",
         "False",
         "True"
        ],
        [
         "1",
         "6159acd3143c37878b23849b",
         "6020bc70f1e4807cc7002386",
         "https://octane.gg/teams/2386-rogue",
         "ROGUE",
         "North America",
         "orange",
         "1",
         "29.0",
         "11.0",
         "11.0",
         "11.0",
         "3949.0",
         "37.93103448275862",
         "3741.0",
         "3857.33787",
         "417.0700000000001",
         "21901.0",
         "3922.0",
         "15254.0",
         "2146.0",
         "6647.0",
         "1776.0",
         "179.0",
         "25.0",
         "574.0",
         "159.0",
         "2582.0",
         "325.0",
         "2814.0",
         "351.43",
         "238.04",
         "1201.27",
         "705.23",
         "499.02",
         "692.56",
         "4545060.0",
         "438.68",
         "1271.18",
         "1471.63",
         "1806.26",
         "1186.91",
         "188.28",
         "54.03",
         "540.0",
         "1521.35",
         "1034.91",
         "625.1800000000001",
         "2071.43",
         "1110.03",
         "2420.49",
         "760.98",
         "12.0",
         "14.0",
         "2021-10-11 00:50:42+00:00",
         "Regional 1",
         "North America",
         "Qualifier",
         "best-of-5",
         "Swiss Stage",
         "False",
         "True"
        ],
        [
         "2",
         "61606146f8090ec745286f91",
         "6020bc70f1e4807cc7002386",
         "https://octane.gg/teams/2386-rogue",
         "ROGUE",
         "North America",
         "blue",
         "0",
         "43.0",
         "6.0",
         "22.0",
         "5.0",
         "4797.0",
         "13.953488372093023",
         "6133.0",
         "6214.89872",
         "701.18",
         "35102.0",
         "7205.0",
         "23638.0",
         "3945.0",
         "11464.0",
         "3260.0",
         "277.0",
         "48.0",
         "1015.0",
         "287.0",
         "4065.0",
         "795.0",
         "4926.0",
         "691.14",
         "470.92",
         "1884.73",
         "1254.88",
         "848.1500000000001",
         "1137.05",
         "7684619.0",
         "720.71",
         "2166.67",
         "2323.59",
         "2990.78",
         "1841.92",
         "378.29",
         "99.58",
         "951.0",
         "2485.7700000000004",
         "1693.88",
         "1031.33",
         "3428.2700000000004",
         "1782.73",
         "3749.02",
         "1461.98",
         "12.0",
         "19.0",
         "2021-10-15 13:16:43+00:00",
         "Regional 1",
         "North America",
         "A",
         "best-of-5",
         "Swiss Stage",
         "False",
         "False"
        ]
       ],
       "shape": {
        "columns": 61,
        "rows": 3
       }
      },
      "text/html": [
       "<div>\n",
       "<style scoped>\n",
       "    .dataframe tbody tr th:only-of-type {\n",
       "        vertical-align: middle;\n",
       "    }\n",
       "\n",
       "    .dataframe tbody tr th {\n",
       "        vertical-align: top;\n",
       "    }\n",
       "\n",
       "    .dataframe thead th {\n",
       "        text-align: right;\n",
       "    }\n",
       "</style>\n",
       "<table border=\"1\" class=\"dataframe\">\n",
       "  <thead>\n",
       "    <tr style=\"text-align: right;\">\n",
       "      <th></th>\n",
       "      <th>match_id</th>\n",
       "      <th>team_id</th>\n",
       "      <th>team_slug</th>\n",
       "      <th>team_name</th>\n",
       "      <th>team_region</th>\n",
       "      <th>color</th>\n",
       "      <th>winner</th>\n",
       "      <th>core_shots</th>\n",
       "      <th>core_goals</th>\n",
       "      <th>core_saves</th>\n",
       "      <th>...</th>\n",
       "      <th>demo_inflicted</th>\n",
       "      <th>demo_taken</th>\n",
       "      <th>game_date</th>\n",
       "      <th>event</th>\n",
       "      <th>event_region</th>\n",
       "      <th>event_tier</th>\n",
       "      <th>match_format</th>\n",
       "      <th>stage</th>\n",
       "      <th>stage_is_lan</th>\n",
       "      <th>stage_is_qualifier</th>\n",
       "    </tr>\n",
       "  </thead>\n",
       "  <tbody>\n",
       "    <tr>\n",
       "      <th>0</th>\n",
       "      <td>6159acd3143c37878b23848f</td>\n",
       "      <td>6020bc70f1e4807cc7002386</td>\n",
       "      <td>https://octane.gg/teams/2386-rogue</td>\n",
       "      <td>ROGUE</td>\n",
       "      <td>North America</td>\n",
       "      <td>blue</td>\n",
       "      <td>0</td>\n",
       "      <td>32.0</td>\n",
       "      <td>8.0</td>\n",
       "      <td>20.0</td>\n",
       "      <td>...</td>\n",
       "      <td>17.0</td>\n",
       "      <td>9.0</td>\n",
       "      <td>2021-10-10 23:15:58+00:00</td>\n",
       "      <td>Regional 1</td>\n",
       "      <td>North America</td>\n",
       "      <td>Qualifier</td>\n",
       "      <td>best-of-5</td>\n",
       "      <td>Swiss Stage</td>\n",
       "      <td>False</td>\n",
       "      <td>True</td>\n",
       "    </tr>\n",
       "    <tr>\n",
       "      <th>1</th>\n",
       "      <td>6159acd3143c37878b23849b</td>\n",
       "      <td>6020bc70f1e4807cc7002386</td>\n",
       "      <td>https://octane.gg/teams/2386-rogue</td>\n",
       "      <td>ROGUE</td>\n",
       "      <td>North America</td>\n",
       "      <td>orange</td>\n",
       "      <td>1</td>\n",
       "      <td>29.0</td>\n",
       "      <td>11.0</td>\n",
       "      <td>11.0</td>\n",
       "      <td>...</td>\n",
       "      <td>12.0</td>\n",
       "      <td>14.0</td>\n",
       "      <td>2021-10-11 00:50:42+00:00</td>\n",
       "      <td>Regional 1</td>\n",
       "      <td>North America</td>\n",
       "      <td>Qualifier</td>\n",
       "      <td>best-of-5</td>\n",
       "      <td>Swiss Stage</td>\n",
       "      <td>False</td>\n",
       "      <td>True</td>\n",
       "    </tr>\n",
       "    <tr>\n",
       "      <th>2</th>\n",
       "      <td>61606146f8090ec745286f91</td>\n",
       "      <td>6020bc70f1e4807cc7002386</td>\n",
       "      <td>https://octane.gg/teams/2386-rogue</td>\n",
       "      <td>ROGUE</td>\n",
       "      <td>North America</td>\n",
       "      <td>blue</td>\n",
       "      <td>0</td>\n",
       "      <td>43.0</td>\n",
       "      <td>6.0</td>\n",
       "      <td>22.0</td>\n",
       "      <td>...</td>\n",
       "      <td>12.0</td>\n",
       "      <td>19.0</td>\n",
       "      <td>2021-10-15 13:16:43+00:00</td>\n",
       "      <td>Regional 1</td>\n",
       "      <td>North America</td>\n",
       "      <td>A</td>\n",
       "      <td>best-of-5</td>\n",
       "      <td>Swiss Stage</td>\n",
       "      <td>False</td>\n",
       "      <td>False</td>\n",
       "    </tr>\n",
       "  </tbody>\n",
       "</table>\n",
       "<p>3 rows × 61 columns</p>\n",
       "</div>"
      ],
      "text/plain": [
       "                   match_id                   team_id  \\\n",
       "0  6159acd3143c37878b23848f  6020bc70f1e4807cc7002386   \n",
       "1  6159acd3143c37878b23849b  6020bc70f1e4807cc7002386   \n",
       "2  61606146f8090ec745286f91  6020bc70f1e4807cc7002386   \n",
       "\n",
       "                            team_slug team_name    team_region   color  \\\n",
       "0  https://octane.gg/teams/2386-rogue     ROGUE  North America    blue   \n",
       "1  https://octane.gg/teams/2386-rogue     ROGUE  North America  orange   \n",
       "2  https://octane.gg/teams/2386-rogue     ROGUE  North America    blue   \n",
       "\n",
       "   winner  core_shots  core_goals  core_saves  ...  demo_inflicted  \\\n",
       "0       0        32.0         8.0        20.0  ...            17.0   \n",
       "1       1        29.0        11.0        11.0  ...            12.0   \n",
       "2       0        43.0         6.0        22.0  ...            12.0   \n",
       "\n",
       "   demo_taken                 game_date       event   event_region  \\\n",
       "0         9.0 2021-10-10 23:15:58+00:00  Regional 1  North America   \n",
       "1        14.0 2021-10-11 00:50:42+00:00  Regional 1  North America   \n",
       "2        19.0 2021-10-15 13:16:43+00:00  Regional 1  North America   \n",
       "\n",
       "   event_tier  match_format        stage  stage_is_lan  stage_is_qualifier  \n",
       "0   Qualifier     best-of-5  Swiss Stage         False                True  \n",
       "1   Qualifier     best-of-5  Swiss Stage         False                True  \n",
       "2           A     best-of-5  Swiss Stage         False               False  \n",
       "\n",
       "[3 rows x 61 columns]"
      ]
     },
     "execution_count": 6,
     "metadata": {},
     "output_type": "execute_result"
    }
   ],
   "source": [
    "\n",
    "# 4) Per-Team Rows & Feature Selection\n",
    "team_cols_pref = ['match_id','team_id','team_slug','team_name','team_region','color','winner']\n",
    "team_cols = [c for c in team_cols_pref if c in matches.columns]\n",
    "if 'match_id' not in team_cols or 'team_id' not in team_cols:\n",
    "    raise ValueError(\"Expected 'match_id' and 'team_id' in matches_by_teams.csv.\")\n",
    "\n",
    "# Auto-select numeric features (exclude ids/target)\n",
    "exclude_exact = {'match_id','team_id','winner'}\n",
    "numeric_cols = [c for c in matches.columns\n",
    "                if c not in exclude_exact and np.issubdtype(matches[c].dtype, np.number)]\n",
    "\n",
    "# Prefer typical RL stat families; fall back to all numeric if none match\n",
    "preferred_prefixes = ['core_', 'boost_', 'movement_', 'positioning_', 'demo_']\n",
    "rl_like = [c for c in numeric_cols if any(c.startswith(p) for p in preferred_prefixes)]\n",
    "feature_candidates = rl_like if rl_like else numeric_cols\n",
    "if len(feature_candidates) == 0:\n",
    "    raise ValueError(\"No usable numeric feature columns found in matches_by_teams.csv.\")\n",
    "\n",
    "print(f\"Using {len(feature_candidates)} numeric features (first 12): {sorted(feature_candidates)[:12]}\")\n",
    "\n",
    "# Build per_team INCLUDING feature columns\n",
    "per_team = matches[team_cols + feature_candidates].copy()\n",
    "\n",
    "# Normalize winner to 0/1\n",
    "if 'winner' in per_team.columns:\n",
    "    per_team['winner'] = per_team['winner'].astype(int) if per_team['winner'].dtype != bool else per_team['winner'].astype(int)\n",
    "else:\n",
    "    raise ValueError(\"Target column 'winner' missing in matches_by_teams.csv.\")\n",
    "\n",
    "# Attach date/meta and sort\n",
    "per_team = (per_team.merge(main_match, on='match_id', how='left')\n",
    "                    .sort_values(['team_id', date_col])\n",
    "                    .reset_index(drop=True))\n",
    "\n",
    "per_team.head(3)\n"
   ]
  },
  {
   "cell_type": "markdown",
   "id": "84c9401a",
   "metadata": {},
   "source": [
    "## Rolling (Past-Only) Features"
   ]
  },
  {
   "cell_type": "code",
   "execution_count": 7,
   "id": "86a79a85",
   "metadata": {},
   "outputs": [
    {
     "name": "stdout",
     "output_type": "stream",
     "text": [
      "Built 46 rolling features over last 5 matches.\n"
     ]
    },
    {
     "data": {
      "application/vnd.microsoft.datawrangler.viewer.v0+json": {
       "columns": [
        {
         "name": "index",
         "rawType": "int64",
         "type": "integer"
        },
        {
         "name": "core_shots_roll5_mean",
         "rawType": "float64",
         "type": "float"
        },
        {
         "name": "core_goals_roll5_mean",
         "rawType": "float64",
         "type": "float"
        },
        {
         "name": "core_saves_roll5_mean",
         "rawType": "float64",
         "type": "float"
        },
        {
         "name": "core_assists_roll5_mean",
         "rawType": "float64",
         "type": "float"
        },
        {
         "name": "core_score_roll5_mean",
         "rawType": "float64",
         "type": "float"
        },
        {
         "name": "core_shooting_percentage_roll5_mean",
         "rawType": "float64",
         "type": "float"
        },
        {
         "name": "boost_bpm_roll5_mean",
         "rawType": "float64",
         "type": "float"
        },
        {
         "name": "boost_bcpm_roll5_mean",
         "rawType": "float64",
         "type": "float"
        },
        {
         "name": "boost_avg_amount_roll5_mean",
         "rawType": "float64",
         "type": "float"
        },
        {
         "name": "boost_amount_collected_roll5_mean",
         "rawType": "float64",
         "type": "float"
        },
        {
         "name": "boost_amount_stolen_roll5_mean",
         "rawType": "float64",
         "type": "float"
        },
        {
         "name": "boost_amount_collected_big_roll5_mean",
         "rawType": "float64",
         "type": "float"
        },
        {
         "name": "boost_amount_stolen_big_roll5_mean",
         "rawType": "float64",
         "type": "float"
        },
        {
         "name": "boost_amount_collected_small_roll5_mean",
         "rawType": "float64",
         "type": "float"
        },
        {
         "name": "boost_amount_stolen_small_roll5_mean",
         "rawType": "float64",
         "type": "float"
        },
        {
         "name": "boost_count_collected_big_roll5_mean",
         "rawType": "float64",
         "type": "float"
        },
        {
         "name": "boost_count_stolen_big_roll5_mean",
         "rawType": "float64",
         "type": "float"
        },
        {
         "name": "boost_count_collected_small_roll5_mean",
         "rawType": "float64",
         "type": "float"
        },
        {
         "name": "boost_count_stolen_small_roll5_mean",
         "rawType": "float64",
         "type": "float"
        },
        {
         "name": "boost_amount_overfill_roll5_mean",
         "rawType": "float64",
         "type": "float"
        },
        {
         "name": "boost_amount_overfill_stolen_roll5_mean",
         "rawType": "float64",
         "type": "float"
        },
        {
         "name": "boost_amount_used_while_supersonic_roll5_mean",
         "rawType": "float64",
         "type": "float"
        },
        {
         "name": "boost_time_zero_boost_roll5_mean",
         "rawType": "float64",
         "type": "float"
        },
        {
         "name": "boost_time_full_boost_roll5_mean",
         "rawType": "float64",
         "type": "float"
        },
        {
         "name": "boost_time_boost_0_25_roll5_mean",
         "rawType": "float64",
         "type": "float"
        },
        {
         "name": "boost_time_boost_25_50_roll5_mean",
         "rawType": "float64",
         "type": "float"
        },
        {
         "name": "boost_time_boost_50_75_roll5_mean",
         "rawType": "float64",
         "type": "float"
        },
        {
         "name": "boost_time_boost_75_100_roll5_mean",
         "rawType": "float64",
         "type": "float"
        },
        {
         "name": "movement_total_distance_roll5_mean",
         "rawType": "float64",
         "type": "float"
        },
        {
         "name": "movement_time_supersonic_speed_roll5_mean",
         "rawType": "float64",
         "type": "float"
        },
        {
         "name": "movement_time_boost_speed_roll5_mean",
         "rawType": "float64",
         "type": "float"
        },
        {
         "name": "movement_time_slow_speed_roll5_mean",
         "rawType": "float64",
         "type": "float"
        },
        {
         "name": "movement_time_ground_roll5_mean",
         "rawType": "float64",
         "type": "float"
        },
        {
         "name": "movement_time_low_air_roll5_mean",
         "rawType": "float64",
         "type": "float"
        },
        {
         "name": "movement_time_high_air_roll5_mean",
         "rawType": "float64",
         "type": "float"
        },
        {
         "name": "movement_time_powerslide_roll5_mean",
         "rawType": "float64",
         "type": "float"
        },
        {
         "name": "movement_count_powerslide_roll5_mean",
         "rawType": "float64",
         "type": "float"
        },
        {
         "name": "positioning_time_defensive_third_roll5_mean",
         "rawType": "float64",
         "type": "float"
        },
        {
         "name": "positioning_time_neutral_third_roll5_mean",
         "rawType": "float64",
         "type": "float"
        },
        {
         "name": "positioning_time_offensive_third_roll5_mean",
         "rawType": "float64",
         "type": "float"
        },
        {
         "name": "positioning_time_defensive_half_roll5_mean",
         "rawType": "float64",
         "type": "float"
        },
        {
         "name": "positioning_time_offensive_half_roll5_mean",
         "rawType": "float64",
         "type": "float"
        },
        {
         "name": "positioning_time_behind_ball_roll5_mean",
         "rawType": "float64",
         "type": "float"
        },
        {
         "name": "positioning_time_in_front_ball_roll5_mean",
         "rawType": "float64",
         "type": "float"
        },
        {
         "name": "demo_inflicted_roll5_mean",
         "rawType": "float64",
         "type": "float"
        },
        {
         "name": "demo_taken_roll5_mean",
         "rawType": "float64",
         "type": "float"
        }
       ],
       "ref": "0a5ddcb2-0728-40d6-a8d7-b103d1da0116",
       "rows": [
        [
         "0",
         "32.397460992907796",
         "8.533812056737588",
         "18.340691489361703",
         "6.589625886524823",
         "4420.951620567376",
         "26.43667084956092",
         "4907.423181608216",
         "5043.871564651757",
         "589.4503562342322",
         "29531.167368439754",
         "6438.563214653733",
         "20363.66414206019",
         "3796.9646945954587",
         "9167.503226379562",
         "2641.598520058274",
         "245.24650890097004",
         "44.98080695021853",
         "790.6267721991259",
         "226.36249333759724",
         "4139.332564047898",
         "687.1129748072344",
         "3957.3190598017263",
         "532.5128566250933",
         "432.1266073623992",
         "1528.0322386739151",
         "954.2722243897239",
         "746.0430014035461",
         "1061.0274741143446",
         "6414090.301728672",
         "670.5028230288171",
         "1748.7574315104998",
         "1970.9647038339906",
         "2480.3530974842765",
         "1653.4043544220588",
         "256.46734125715096",
         "95.95642598514728",
         "915.2740610453754",
         "2093.525559126603",
         "1410.3453405997939",
         "886.3541329993249",
         "2847.2065614717694",
         "1543.0112595672106",
         "3164.9859968198134",
         "1225.238859236755",
         "12.330483601606083",
         "12.342838361226592"
        ],
        [
         "1",
         "32.0",
         "8.0",
         "20.0",
         "8.0",
         "4533.0",
         "25.0",
         "5148.0",
         "5292.557870000001",
         "555.92",
         "29872.0",
         "5818.0",
         "20153.0",
         "2945.0",
         "9719.0",
         "2873.0",
         "236.0",
         "34.0",
         "824.0",
         "233.0",
         "3555.0",
         "466.0",
         "4105.0",
         "545.37",
         "370.9500000000001",
         "1612.1699999999998",
         "977.51",
         "677.72",
         "864.0699999999999",
         "6100777.0",
         "627.01",
         "1671.82",
         "1933.33",
         "2389.04",
         "1567.77",
         "275.34000000000003",
         "68.82",
         "690.0",
         "2073.9",
         "1347.47",
         "810.8199999999999",
         "2797.27",
         "1434.86",
         "3068.99",
         "1163.19",
         "17.0",
         "9.0"
        ],
        [
         "2",
         "30.5",
         "9.5",
         "15.5",
         "9.5",
         "4241.0",
         "31.46551724137931",
         "4444.5",
         "4574.94787",
         "486.495",
         "25886.5",
         "4870.0",
         "17703.5",
         "2545.5",
         "8183.0",
         "2324.5",
         "207.5",
         "29.5",
         "699.0",
         "196.0",
         "3068.5",
         "395.5",
         "3459.5",
         "448.4",
         "304.49500000000006",
         "1406.7199999999998",
         "841.37",
         "588.37",
         "778.3149999999999",
         "5322918.5",
         "532.845",
         "1471.5",
         "1702.48",
         "2097.65",
         "1377.3400000000001",
         "231.81",
         "61.425",
         "615.0",
         "1797.625",
         "1191.19",
         "718.0",
         "2434.35",
         "1272.445",
         "2744.74",
         "962.085",
         "14.5",
         "11.5"
        ]
       ],
       "shape": {
        "columns": 46,
        "rows": 3
       }
      },
      "text/html": [
       "<div>\n",
       "<style scoped>\n",
       "    .dataframe tbody tr th:only-of-type {\n",
       "        vertical-align: middle;\n",
       "    }\n",
       "\n",
       "    .dataframe tbody tr th {\n",
       "        vertical-align: top;\n",
       "    }\n",
       "\n",
       "    .dataframe thead th {\n",
       "        text-align: right;\n",
       "    }\n",
       "</style>\n",
       "<table border=\"1\" class=\"dataframe\">\n",
       "  <thead>\n",
       "    <tr style=\"text-align: right;\">\n",
       "      <th></th>\n",
       "      <th>core_shots_roll5_mean</th>\n",
       "      <th>core_goals_roll5_mean</th>\n",
       "      <th>core_saves_roll5_mean</th>\n",
       "      <th>core_assists_roll5_mean</th>\n",
       "      <th>core_score_roll5_mean</th>\n",
       "      <th>core_shooting_percentage_roll5_mean</th>\n",
       "      <th>boost_bpm_roll5_mean</th>\n",
       "      <th>boost_bcpm_roll5_mean</th>\n",
       "      <th>boost_avg_amount_roll5_mean</th>\n",
       "      <th>boost_amount_collected_roll5_mean</th>\n",
       "      <th>...</th>\n",
       "      <th>movement_count_powerslide_roll5_mean</th>\n",
       "      <th>positioning_time_defensive_third_roll5_mean</th>\n",
       "      <th>positioning_time_neutral_third_roll5_mean</th>\n",
       "      <th>positioning_time_offensive_third_roll5_mean</th>\n",
       "      <th>positioning_time_defensive_half_roll5_mean</th>\n",
       "      <th>positioning_time_offensive_half_roll5_mean</th>\n",
       "      <th>positioning_time_behind_ball_roll5_mean</th>\n",
       "      <th>positioning_time_in_front_ball_roll5_mean</th>\n",
       "      <th>demo_inflicted_roll5_mean</th>\n",
       "      <th>demo_taken_roll5_mean</th>\n",
       "    </tr>\n",
       "  </thead>\n",
       "  <tbody>\n",
       "    <tr>\n",
       "      <th>0</th>\n",
       "      <td>32.397461</td>\n",
       "      <td>8.533812</td>\n",
       "      <td>18.340691</td>\n",
       "      <td>6.589626</td>\n",
       "      <td>4420.951621</td>\n",
       "      <td>26.436671</td>\n",
       "      <td>4907.423182</td>\n",
       "      <td>5043.871565</td>\n",
       "      <td>589.450356</td>\n",
       "      <td>29531.167368</td>\n",
       "      <td>...</td>\n",
       "      <td>915.274061</td>\n",
       "      <td>2093.525559</td>\n",
       "      <td>1410.345341</td>\n",
       "      <td>886.354133</td>\n",
       "      <td>2847.206561</td>\n",
       "      <td>1543.01126</td>\n",
       "      <td>3164.985997</td>\n",
       "      <td>1225.238859</td>\n",
       "      <td>12.330484</td>\n",
       "      <td>12.342838</td>\n",
       "    </tr>\n",
       "    <tr>\n",
       "      <th>1</th>\n",
       "      <td>32.000000</td>\n",
       "      <td>8.000000</td>\n",
       "      <td>20.000000</td>\n",
       "      <td>8.000000</td>\n",
       "      <td>4533.000000</td>\n",
       "      <td>25.000000</td>\n",
       "      <td>5148.000000</td>\n",
       "      <td>5292.557870</td>\n",
       "      <td>555.920000</td>\n",
       "      <td>29872.000000</td>\n",
       "      <td>...</td>\n",
       "      <td>690.000000</td>\n",
       "      <td>2073.900000</td>\n",
       "      <td>1347.470000</td>\n",
       "      <td>810.820000</td>\n",
       "      <td>2797.270000</td>\n",
       "      <td>1434.86000</td>\n",
       "      <td>3068.990000</td>\n",
       "      <td>1163.190000</td>\n",
       "      <td>17.000000</td>\n",
       "      <td>9.000000</td>\n",
       "    </tr>\n",
       "    <tr>\n",
       "      <th>2</th>\n",
       "      <td>30.500000</td>\n",
       "      <td>9.500000</td>\n",
       "      <td>15.500000</td>\n",
       "      <td>9.500000</td>\n",
       "      <td>4241.000000</td>\n",
       "      <td>31.465517</td>\n",
       "      <td>4444.500000</td>\n",
       "      <td>4574.947870</td>\n",
       "      <td>486.495000</td>\n",
       "      <td>25886.500000</td>\n",
       "      <td>...</td>\n",
       "      <td>615.000000</td>\n",
       "      <td>1797.625000</td>\n",
       "      <td>1191.190000</td>\n",
       "      <td>718.000000</td>\n",
       "      <td>2434.350000</td>\n",
       "      <td>1272.44500</td>\n",
       "      <td>2744.740000</td>\n",
       "      <td>962.085000</td>\n",
       "      <td>14.500000</td>\n",
       "      <td>11.500000</td>\n",
       "    </tr>\n",
       "  </tbody>\n",
       "</table>\n",
       "<p>3 rows × 46 columns</p>\n",
       "</div>"
      ],
      "text/plain": [
       "   core_shots_roll5_mean  core_goals_roll5_mean  core_saves_roll5_mean  \\\n",
       "0              32.397461               8.533812              18.340691   \n",
       "1              32.000000               8.000000              20.000000   \n",
       "2              30.500000               9.500000              15.500000   \n",
       "\n",
       "   core_assists_roll5_mean  core_score_roll5_mean  \\\n",
       "0                 6.589626            4420.951621   \n",
       "1                 8.000000            4533.000000   \n",
       "2                 9.500000            4241.000000   \n",
       "\n",
       "   core_shooting_percentage_roll5_mean  boost_bpm_roll5_mean  \\\n",
       "0                            26.436671           4907.423182   \n",
       "1                            25.000000           5148.000000   \n",
       "2                            31.465517           4444.500000   \n",
       "\n",
       "   boost_bcpm_roll5_mean  boost_avg_amount_roll5_mean  \\\n",
       "0            5043.871565                   589.450356   \n",
       "1            5292.557870                   555.920000   \n",
       "2            4574.947870                   486.495000   \n",
       "\n",
       "   boost_amount_collected_roll5_mean  ...  \\\n",
       "0                       29531.167368  ...   \n",
       "1                       29872.000000  ...   \n",
       "2                       25886.500000  ...   \n",
       "\n",
       "   movement_count_powerslide_roll5_mean  \\\n",
       "0                            915.274061   \n",
       "1                            690.000000   \n",
       "2                            615.000000   \n",
       "\n",
       "   positioning_time_defensive_third_roll5_mean  \\\n",
       "0                                  2093.525559   \n",
       "1                                  2073.900000   \n",
       "2                                  1797.625000   \n",
       "\n",
       "   positioning_time_neutral_third_roll5_mean  \\\n",
       "0                                1410.345341   \n",
       "1                                1347.470000   \n",
       "2                                1191.190000   \n",
       "\n",
       "   positioning_time_offensive_third_roll5_mean  \\\n",
       "0                                   886.354133   \n",
       "1                                   810.820000   \n",
       "2                                   718.000000   \n",
       "\n",
       "   positioning_time_defensive_half_roll5_mean  \\\n",
       "0                                 2847.206561   \n",
       "1                                 2797.270000   \n",
       "2                                 2434.350000   \n",
       "\n",
       "   positioning_time_offensive_half_roll5_mean  \\\n",
       "0                                  1543.01126   \n",
       "1                                  1434.86000   \n",
       "2                                  1272.44500   \n",
       "\n",
       "   positioning_time_behind_ball_roll5_mean  \\\n",
       "0                              3164.985997   \n",
       "1                              3068.990000   \n",
       "2                              2744.740000   \n",
       "\n",
       "   positioning_time_in_front_ball_roll5_mean  demo_inflicted_roll5_mean  \\\n",
       "0                                1225.238859                  12.330484   \n",
       "1                                1163.190000                  17.000000   \n",
       "2                                 962.085000                  14.500000   \n",
       "\n",
       "   demo_taken_roll5_mean  \n",
       "0              12.342838  \n",
       "1               9.000000  \n",
       "2              11.500000  \n",
       "\n",
       "[3 rows x 46 columns]"
      ]
     },
     "execution_count": 7,
     "metadata": {},
     "output_type": "execute_result"
    }
   ],
   "source": [
    "\n",
    "# 5) Rolling (Past-Only) Features\n",
    "ROLL_N = 5\n",
    "\n",
    "def _roll_mean(s):\n",
    "    # last N matches BEFORE current match\n",
    "    return s.shift(1).rolling(ROLL_N, min_periods=1).mean()\n",
    "\n",
    "roll_frames = []\n",
    "for col in feature_candidates:\n",
    "    r = (per_team.groupby('team_id')[col]\n",
    "         .apply(_roll_mean)\n",
    "         .rename(f'{col}_roll{ROLL_N}_mean'))\n",
    "    roll_frames.append(r)\n",
    "\n",
    "rolled = pd.concat(roll_frames, axis=1).reset_index(level=0, drop=True)\n",
    "per_team_rolled = pd.concat([per_team, rolled], axis=1)\n",
    "\n",
    "roll_cols = [c for c in per_team_rolled.columns if c.endswith(f'_roll{ROLL_N}_mean')]\n",
    "per_team_rolled[roll_cols] = per_team_rolled[roll_cols].fillna(per_team_rolled[roll_cols].mean())\n",
    "\n",
    "print(f\"Built {len(roll_cols)} rolling features over last {ROLL_N} matches.\")\n",
    "per_team_rolled[roll_cols].head(3)\n"
   ]
  },
  {
   "cell_type": "markdown",
   "id": "c4540330",
   "metadata": {},
   "source": [
    "## Build Match-Level Examples (Team A − Team B)"
   ]
  },
  {
   "cell_type": "code",
   "execution_count": 8,
   "id": "455a4b8d",
   "metadata": {},
   "outputs": [
    {
     "name": "stdout",
     "output_type": "stream",
     "text": [
      "Final training rows: 4331 | Features per row: 46\n"
     ]
    }
   ],
   "source": [
    "\n",
    "# 6) Build Match-Level Examples (Team A − Team B)\n",
    "def build_pairs(df, date_col, roll_cols):\n",
    "    rows = []\n",
    "    for mid, grp in df.groupby('match_id', sort=False):\n",
    "        if len(grp) != 2:\n",
    "            continue\n",
    "        sort_key = 'team_name' if 'team_name' in grp.columns else 'team_id'\n",
    "        grp = grp.sort_values(sort_key)\n",
    "        a, b = grp.iloc[0], grp.iloc[1]\n",
    "        diff = a[roll_cols].values - b[roll_cols].values\n",
    "        y = int(a['winner'])  # whether Team A (alphabetical) won\n",
    "        rows.append((diff, y, {\n",
    "            'match_id': mid,\n",
    "            'date': a[date_col],\n",
    "            'teamA_id': a['team_id'],\n",
    "            'teamA_name': a.get('team_name', str(a['team_id'])),\n",
    "            'teamB_id': b['team_id'],\n",
    "            'teamB_name': b.get('team_name', str(b['team_id']))\n",
    "        }))\n",
    "\n",
    "    if not rows:\n",
    "        return pd.DataFrame(), np.array([]), pd.DataFrame()\n",
    "\n",
    "    X = np.vstack([r[0] for r in rows])\n",
    "    y = np.array([r[1] for r in rows])\n",
    "    meta_df = pd.DataFrame([r[2] for r in rows])\n",
    "    X_df = pd.DataFrame(X, columns=[f'diff__{c}' for c in roll_cols])\n",
    "    return X_df, y, meta_df\n",
    "\n",
    "X_df, y_vec, meta_df = build_pairs(per_team_rolled, date_col, roll_cols)\n",
    "if X_df.empty:\n",
    "    raise RuntimeError(\"No valid matches with exactly two teams found after processing.\")\n",
    "\n",
    "mask = meta_df['date'].notna().values\n",
    "\n",
    "X_df   = X_df.loc[mask].reset_index(drop=True)\n",
    "meta_df = meta_df.loc[mask].reset_index(drop=True)\n",
    "y_vec  = y_vec[mask]\n",
    "\n",
    "# now lengths align\n",
    "assert len(X_df) == len(meta_df) == len(y_vec)\n",
    "\n",
    "data = pd.concat([meta_df, X_df], axis=1).sort_values('date').reset_index(drop=True)\n",
    "data['label'] = y_vec.astype(int)\n",
    "\n",
    "feature_cols = [c for c in data.columns if c.startswith('diff__')]\n",
    "print(f\"Final training rows: {len(data)} | Features per row: {len(feature_cols)}\")\n"
   ]
  },
  {
   "cell_type": "markdown",
   "id": "b806f817",
   "metadata": {},
   "source": [
    "## Train/Test Split, Train Models, Evaluate"
   ]
  },
  {
   "cell_type": "code",
   "execution_count": 9,
   "id": "c2c27e63",
   "metadata": {},
   "outputs": [
    {
     "data": {
      "application/vnd.microsoft.datawrangler.viewer.v0+json": {
       "columns": [
        {
         "name": "index",
         "rawType": "int64",
         "type": "integer"
        },
        {
         "name": "model",
         "rawType": "object",
         "type": "string"
        },
        {
         "name": "train_acc",
         "rawType": "float64",
         "type": "float"
        },
        {
         "name": "test_acc",
         "rawType": "float64",
         "type": "float"
        },
        {
         "name": "train_auc",
         "rawType": "float64",
         "type": "float"
        },
        {
         "name": "test_auc",
         "rawType": "float64",
         "type": "float"
        },
        {
         "name": "train_logloss",
         "rawType": "float64",
         "type": "float"
        },
        {
         "name": "test_logloss",
         "rawType": "float64",
         "type": "float"
        }
       ],
       "ref": "e495a559-6694-403e-ae0a-c25556b246f4",
       "rows": [
        [
         "0",
         "LogisticRegression",
         "0.5375",
         "0.549",
         "0.5582",
         "0.5201",
         "0.6878",
         "0.6969"
        ],
        [
         "1",
         "RandomForest",
         "0.9893",
         "0.4567",
         "0.9997",
         "0.4576",
         "0.2715",
         "0.7187"
        ]
       ],
       "shape": {
        "columns": 7,
        "rows": 2
       }
      },
      "text/html": [
       "<div>\n",
       "<style scoped>\n",
       "    .dataframe tbody tr th:only-of-type {\n",
       "        vertical-align: middle;\n",
       "    }\n",
       "\n",
       "    .dataframe tbody tr th {\n",
       "        vertical-align: top;\n",
       "    }\n",
       "\n",
       "    .dataframe thead th {\n",
       "        text-align: right;\n",
       "    }\n",
       "</style>\n",
       "<table border=\"1\" class=\"dataframe\">\n",
       "  <thead>\n",
       "    <tr style=\"text-align: right;\">\n",
       "      <th></th>\n",
       "      <th>model</th>\n",
       "      <th>train_acc</th>\n",
       "      <th>test_acc</th>\n",
       "      <th>train_auc</th>\n",
       "      <th>test_auc</th>\n",
       "      <th>train_logloss</th>\n",
       "      <th>test_logloss</th>\n",
       "    </tr>\n",
       "  </thead>\n",
       "  <tbody>\n",
       "    <tr>\n",
       "      <th>0</th>\n",
       "      <td>LogisticRegression</td>\n",
       "      <td>0.5375</td>\n",
       "      <td>0.5490</td>\n",
       "      <td>0.5582</td>\n",
       "      <td>0.5201</td>\n",
       "      <td>0.6878</td>\n",
       "      <td>0.6969</td>\n",
       "    </tr>\n",
       "    <tr>\n",
       "      <th>1</th>\n",
       "      <td>RandomForest</td>\n",
       "      <td>0.9893</td>\n",
       "      <td>0.4567</td>\n",
       "      <td>0.9997</td>\n",
       "      <td>0.4576</td>\n",
       "      <td>0.2715</td>\n",
       "      <td>0.7187</td>\n",
       "    </tr>\n",
       "  </tbody>\n",
       "</table>\n",
       "</div>"
      ],
      "text/plain": [
       "                model  train_acc  test_acc  train_auc  test_auc  \\\n",
       "0  LogisticRegression     0.5375    0.5490     0.5582    0.5201   \n",
       "1        RandomForest     0.9893    0.4567     0.9997    0.4576   \n",
       "\n",
       "   train_logloss  test_logloss  \n",
       "0         0.6878        0.6969  \n",
       "1         0.2715        0.7187  "
      ]
     },
     "execution_count": 9,
     "metadata": {},
     "output_type": "execute_result"
    }
   ],
   "source": [
    "\n",
    "# 7) Train/Test Split, Train Models, Evaluate\n",
    "split_idx = int(len(data) * 0.80)\n",
    "train_df = data.iloc[:split_idx].copy()\n",
    "test_df  = data.iloc[split_idx:].copy()\n",
    "\n",
    "X_train, y_train = train_df[feature_cols].values, train_df['label'].values\n",
    "X_test,  y_test  = test_df[feature_cols].values,  test_df['label'].values\n",
    "\n",
    "logreg = Pipeline([('scaler', StandardScaler()), ('clf', LogisticRegression(max_iter=1000))])\n",
    "rf = RandomForestClassifier(n_estimators=400, min_samples_split=4, min_samples_leaf=2, random_state=42, n_jobs=-1)\n",
    "\n",
    "logreg.fit(X_train, y_train)\n",
    "rf.fit(X_train, y_train)\n",
    "\n",
    "def evaluate(name, model):\n",
    "    yhat_tr = model.predict(X_train)\n",
    "    yhat_te = model.predict(X_test)\n",
    "    proba_tr = model.predict_proba(X_train)[:,1]\n",
    "    proba_te = model.predict_proba(X_test)[:,1]\n",
    "    return {\n",
    "        'model': name,\n",
    "        'train_acc': accuracy_score(y_train, yhat_tr),\n",
    "        'test_acc':  accuracy_score(y_test,  yhat_te),\n",
    "        'train_auc': roc_auc_score(y_train, proba_tr),\n",
    "        'test_auc':  roc_auc_score(y_test,  proba_te),\n",
    "        'train_logloss': log_loss(y_train, proba_tr),\n",
    "        'test_logloss':  log_loss(y_test,  proba_te)\n",
    "    }, (yhat_te, proba_te)\n",
    "\n",
    "r1, (yhat_log_te, proba_log_te) = evaluate('LogisticRegression', logreg)\n",
    "r2, (yhat_rf_te,  proba_rf_te)  = evaluate('RandomForest', rf)\n",
    "\n",
    "perf = pd.DataFrame([r1, r2]).round(4)\n",
    "perf\n"
   ]
  },
  {
   "cell_type": "markdown",
   "id": "1ab2f8f5",
   "metadata": {},
   "source": [
    "## Plots"
   ]
  },
  {
   "cell_type": "code",
   "execution_count": 10,
   "id": "7c30098a",
   "metadata": {},
   "outputs": [
    {
     "data": {
      "text/plain": [
       "<Figure size 640x480 with 0 Axes>"
      ]
     },
     "metadata": {},
     "output_type": "display_data"
    },
    {
     "data": {
      "image/png": "[encoded data removed]",
      "text/plain": [
       "<Figure size 640x480 with 1 Axes>"
      ]
     },
     "metadata": {},
     "output_type": "display_data"
    },
    {
     "data": {
      "image/png": "[encoded data removed]",
      "text/plain": [
       "<Figure size 640x480 with 1 Axes>"
      ]
     },
     "metadata": {},
     "output_type": "display_data"
    },
    {
     "data": {
      "image/png": "[encoded data removed]",
      "text/plain": [
       "<Figure size 640x480 with 2 Axes>"
      ]
     },
     "metadata": {},
     "output_type": "display_data"
    }
   ],
   "source": [
    "\n",
    "# 8) Plots\n",
    "plt.figure()\n",
    "RocCurveDisplay.from_predictions(y_test, proba_log_te, name='LogReg')\n",
    "RocCurveDisplay.from_predictions(y_test, proba_rf_te,  name='RandomForest')\n",
    "plt.title('ROC Curve (Test)')\n",
    "plt.show()\n",
    "\n",
    "best_name = 'LogisticRegression' if r1['test_auc'] >= r2['test_auc'] else 'RandomForest'\n",
    "best_pred = yhat_log_te if best_name == 'LogisticRegression' else yhat_rf_te\n",
    "ConfusionMatrixDisplay.from_predictions(y_test, best_pred)\n",
    "plt.title(f'Confusion Matrix - {best_name} (Test)')\n",
    "plt.show()\n"
   ]
  },
  {
   "cell_type": "markdown",
   "id": "a7c91859",
   "metadata": {},
   "source": [
    "## Save Artifacts"
   ]
  },
  {
   "cell_type": "code",
   "execution_count": 11,
   "id": "7374ed49",
   "metadata": {},
   "outputs": [
    {
     "name": "stdout",
     "output_type": "stream",
     "text": [
      "Saved -> rl_match_predictor.pkl\n",
      "Saved -> test_set_predictions.csv\n"
     ]
    }
   ],
   "source": [
    "\n",
    "# 9) Save Artifacts\n",
    "best_model = logreg if r1['test_auc'] >= r2['test_auc'] else rf\n",
    "artifact = {\n",
    "    'model_name': 'LogisticRegression' if r1['test_auc'] >= r2['test_auc'] else 'RandomForest',\n",
    "    'model': best_model,\n",
    "    'feature_cols': feature_cols,\n",
    "    'roll_cols': roll_cols,\n",
    "    'roll_window': 5,\n",
    "    'built_on': datetime.utcnow().isoformat() + 'Z'\n",
    "}\n",
    "with open('rl_match_predictor.pkl', 'wb') as f:\n",
    "    pickle.dump(artifact, f)\n",
    "\n",
    "out_preds = test_df[['match_id','date','teamA_name','teamB_name','label']].copy()\n",
    "out_preds['prob_A_wins'] = best_model.predict_proba(test_df[feature_cols].values)[:,1]\n",
    "out_preds.rename(columns={'label':'actual_A_won'}, inplace=True)\n",
    "out_preds.to_csv('test_set_predictions.csv', index=False)\n",
    "\n",
    "print(\"Saved -> rl_match_predictor.pkl\")\n",
    "print(\"Saved -> test_set_predictions.csv\")\n"
   ]
  },
  {
   "cell_type": "markdown",
   "id": "8414e881",
   "metadata": {},
   "source": [
    "## Inference Helper"
   ]
  },
  {
   "cell_type": "code",
   "execution_count": 12,
   "id": "71b52232",
   "metadata": {},
   "outputs": [],
   "source": [
    "\n",
    "# 10) Inference Helper\n",
    "import difflib\n",
    "\n",
    "def _date_col_from(df: pd.DataFrame) -> str:\n",
    "    for c in ('date', 'game_date', 'match_date'):\n",
    "        if c in df.columns:\n",
    "            return c\n",
    "    raise ValueError(\"No date-like column found in per_team_rolled.\")\n",
    "\n",
    "def _find_team_name(name: str, pool: pd.Series) -> str | None:\n",
    "    \"\"\"Return the best matching team name from pool (case-insensitive, fuzzy).\"\"\"\n",
    "    names = [n for n in pool.dropna().unique() if isinstance(n, str)]\n",
    "    # Exact, case-insensitive\n",
    "    for n in names:\n",
    "        if n.casefold() == name.casefold():\n",
    "            return n\n",
    "    # Fuzzy fallback\n",
    "    matches = difflib.get_close_matches(name, names, n=1, cutoff=0.6)\n",
    "    return matches[0] if matches else None\n",
    "\n",
    "def _latest_roll_for_team(team_name: str, as_of: str | None = None):\n",
    "    if 'team_name' not in per_team_rolled.columns:\n",
    "        raise ValueError(\"per_team_rolled missing 'team_name' column.\")\n",
    "    dcol = _date_col_from(per_team_rolled)\n",
    "    # Resolve actual team name (tolerant to case/typos)\n",
    "    actual = _find_team_name(team_name, per_team_rolled['team_name'])\n",
    "    if actual is None:\n",
    "        return None  # team not found\n",
    "    df = per_team_rolled[per_team_rolled['team_name'] == actual].copy()\n",
    "    if as_of is not None:\n",
    "        as_of_ts = pd.to_datetime(as_of, utc=True)\n",
    "        df = df[df[dcol] < as_of_ts]\n",
    "    if df.empty:\n",
    "        return None  # no history before as_of (or at all)\n",
    "    df = df.sort_values(dcol)\n",
    "    return df.iloc[-1][roll_cols].values\n",
    "\n",
    "def predict_match_prob(teamA_name: str, teamB_name: str, as_of: str | None = None) -> float:\n",
    "    vecA = _latest_roll_for_team(teamA_name, as_of=as_of)\n",
    "    vecB = _latest_roll_for_team(teamB_name, as_of=as_of)\n",
    "    if vecA is None or vecB is None:\n",
    "        # Help the user debug which one failed\n",
    "        missing = []\n",
    "        if vecA is None: missing.append(f\"'{teamA_name}'\")\n",
    "        if vecB is None: missing.append(f\"'{teamB_name}'\")\n",
    "        raise ValueError(f\"Missing history for: {', '.join(missing)}. \"\n",
    "                         f\"Check spelling/case or choose a later 'as_of' date.\")\n",
    "    diff = (vecA - vecB).reshape(1, -1)\n",
    "    # Align to training schema\n",
    "    tmp = pd.DataFrame(diff, columns=roll_cols)\n",
    "    X = tmp.rename(columns={c: f'diff__{c}' for c in roll_cols})[artifact['feature_cols']].values\n",
    "    return float(artifact['model'].predict_proba(X)[:,1])\n",
    "\n",
    "def predict_match(teamA_name: str, teamB_name: str, as_of: str | None = None, return_prob=False):\n",
    "\n",
    "    vecA = _latest_roll_for_team(teamA_name, as_of=as_of)\n",
    "    vecB = _latest_roll_for_team(teamB_name, as_of=as_of)\n",
    "\n",
    "    if vecA is None or vecB is None:\n",
    "        missing = []\n",
    "        if vecA is None: missing.append(f\"'{teamA_name}'\")\n",
    "        if vecB is None: missing.append(f\"'{teamB_name}'\")\n",
    "        raise ValueError(f\"Missing history for: {', '.join(missing)}. \"\n",
    "                         f\"Check spelling/case or choose a later 'as_of' date.\")\n",
    "\n",
    "    # Build match feature vector\n",
    "    diff = (vecA - vecB).reshape(1, -1)\n",
    "    tmp = pd.DataFrame(diff, columns=roll_cols)\n",
    "    X = tmp.rename(columns={c: f'diff__{c}' for c in roll_cols})[artifact['feature_cols']].values\n",
    "\n",
    "    prob_A = artifact['model'].predict_proba(X)[:,1][0]\n",
    "\n",
    "    # format message\n",
    "    if prob_A >= 0.5:\n",
    "        winner = teamA_name\n",
    "        prob = prob_A\n",
    "    else:\n",
    "        winner = teamB_name\n",
    "        prob = 1 - prob_A\n",
    "\n",
    "    message = f\"{winner} is predicted to win with {prob*100:.1f}% confidence.\"\n",
    "    print(message)\n",
    "\n",
    "    if return_prob:\n",
    "        return winner, prob"
   ]
  },
  {
   "cell_type": "code",
   "execution_count": 13,
   "id": "0d0587af",
   "metadata": {},
   "outputs": [
    {
     "name": "stdout",
     "output_type": "stream",
     "text": [
      "G2 Esports is predicted to win with 60.6% confidence.\n"
     ]
    }
   ],
   "source": [
    "# Example usage:\n",
    "predict_match(\"G2 Esports\", \"NRG\")"
   ]
  },
  {
   "cell_type": "code",
   "execution_count": 14,
   "id": "9ebc878c",
   "metadata": {},
   "outputs": [
    {
     "name": "stdout",
     "output_type": "stream",
     "text": [
      "G2 Esports is predicted to win with 64.0% confidence.\n"
     ]
    }
   ],
   "source": [
    "# Example usage with date:\n",
    "predict_match(\"G2 Esports\", \"NRG\", as_of=\"2022-06-01\")"
   ]
  }
 ],
 "metadata": {
  "kernelspec": {
   "display_name": "Python 3",
   "language": "python",
   "name": "python3"
  },
  "language_info": {
   "codemirror_mode": {
    "name": "ipython",
    "version": 3
   },
   "file_extension": ".py",
   "mimetype": "text/x-python",
   "name": "python",
   "nbconvert_exporter": "python",
   "pygments_lexer": "ipython3",
   "version": "3.11.9"
  }
 },
 "nbformat": 4,
 "nbformat_minor": 5
}
